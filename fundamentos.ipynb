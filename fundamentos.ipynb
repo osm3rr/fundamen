{
 "cells": [
  {
   "cell_type": "code",
   "execution_count": 30,
   "metadata": {},
   "outputs": [
    {
     "name": "stdout",
     "output_type": "stream",
     "text": [
      "Mano tengo fe!\n"
     ]
    }
   ],
   "source": [
    "print(\"Mano tengo fe!\")"
   ]
  },
  {
   "cell_type": "markdown",
   "metadata": {},
   "source": [
    "#### Clases de python\n",
    "* variables\n",
    "* operadores matematicos\n",
    "* operadores de comparacion\n",
    "* operadores logicos\n",
    "* condicionales\n",
    "- prueba 1\n",
    "\n",
    "Este es el contenido de la primera clase"
   ]
  },
  {
   "cell_type": "markdown",
   "metadata": {},
   "source": [
    "### Variables"
   ]
  },
  {
   "cell_type": "code",
   "execution_count": 31,
   "metadata": {},
   "outputs": [],
   "source": [
    "name = \"josefino\" # cadena de caracteres / string"
   ]
  },
  {
   "cell_type": "code",
   "execution_count": 32,
   "metadata": {},
   "outputs": [],
   "source": [
    "Name = 'ruperto'"
   ]
  },
  {
   "cell_type": "code",
   "execution_count": 33,
   "metadata": {},
   "outputs": [
    {
     "ename": "NameError",
     "evalue": "name 'last' is not defined",
     "output_type": "error",
     "traceback": [
      "\u001b[1;31m---------------------------------------------------------------------------\u001b[0m",
      "\u001b[1;31mNameError\u001b[0m                                 Traceback (most recent call last)",
      "Input \u001b[1;32mIn [33]\u001b[0m, in \u001b[0;36m<cell line: 5>\u001b[1;34m()\u001b[0m\n\u001b[0;32m      3\u001b[0m LastName \u001b[38;5;241m=\u001b[39m \u001b[38;5;124m\"\u001b[39m\u001b[38;5;124mprimero\u001b[39m\u001b[38;5;124m\"\u001b[39m\n\u001b[0;32m      4\u001b[0m \u001b[38;5;66;03m# last-name = \"primera\"\u001b[39;00m\n\u001b[1;32m----> 5\u001b[0m \u001b[43mlast\u001b[49m\u001b[38;5;241m.\u001b[39mname \u001b[38;5;241m=\u001b[39m \u001b[38;5;124m\"\u001b[39m\u001b[38;5;124mprimera\u001b[39m\u001b[38;5;124m\"\u001b[39m\n\u001b[0;32m      6\u001b[0m LASTname \u001b[38;5;241m=\u001b[39m \u001b[38;5;124m\"\u001b[39m\u001b[38;5;124mprimera\u001b[39m\u001b[38;5;124m\"\u001b[39m\n",
      "\u001b[1;31mNameError\u001b[0m: name 'last' is not defined"
     ]
    }
   ],
   "source": [
    "ln = 'segundo' # mala practica\n",
    "last_name = \"primera\" \n",
    "LastName = \"primero\"\n",
    "# last-name = \"primera\"\n",
    "last.name = \"primera\"\n",
    "LASTname = \"primera\"\n"
   ]
  },
  {
   "cell_type": "code",
   "execution_count": null,
   "metadata": {},
   "outputs": [],
   "source": [
    "# asinacion de variables\n",
    "number_1 = 22\n",
    "number_2 = 10\n",
    "\n",
    "# operaciones\n",
    "sum_result = number_1 + number_2\n",
    "substract = number_1 - number_2\n",
    "multi = number_1 * number_2\n",
    "div = number_1 / number_2"
   ]
  },
  {
   "cell_type": "code",
   "execution_count": null,
   "metadata": {},
   "outputs": [
    {
     "name": "stdout",
     "output_type": "stream",
     "text": [
      "32\n",
      "12\n",
      "220\n",
      "2.2\n"
     ]
    }
   ],
   "source": [
    "# resultados\n",
    "print(sum_result)\n",
    "print(substract)\n",
    "print(multi)\n",
    "print(div)\n"
   ]
  },
  {
   "cell_type": "code",
   "execution_count": null,
   "metadata": {},
   "outputs": [
    {
     "name": "stdout",
     "output_type": "stream",
     "text": [
      "resultado de la suma es: 32\n",
      "resultado de la resta es: 12\n",
      "resultado de la multiplicacion es: 220\n",
      "resultado de la division es: 2.2\n"
     ]
    }
   ],
   "source": [
    "# resultados comentados\n",
    "print(\"resultado de la suma es:\", sum_result)\n",
    "print(f\"resultado de la resta es: {substract}\")\n",
    "print(f\"resultado de la multiplicacion es: {multi}\")\n",
    "print(f\"resultado de la division es: {div}\")"
   ]
  },
  {
   "cell_type": "code",
   "execution_count": null,
   "metadata": {},
   "outputs": [
    {
     "name": "stdout",
     "output_type": "stream",
     "text": [
      "<class 'str'>\n",
      "<class 'int'>\n",
      "<class 'float'>\n"
     ]
    }
   ],
   "source": [
    "# tipos de datos en python\n",
    "print(type(last_name))\n",
    "print(type(number_1))\n",
    "print(type(div))"
   ]
  },
  {
   "cell_type": "code",
   "execution_count": null,
   "metadata": {},
   "outputs": [
    {
     "name": "stdout",
     "output_type": "stream",
     "text": [
      "resultado de la suma es: 34.0\n",
      "resultado de la resta es: -13.0\n",
      "resultado de la multiplicacion es: 246.75\n",
      "resultado de la division es: 0.44680851063829785\n"
     ]
    }
   ],
   "source": [
    "# ingreso de datos por teclado\n",
    "# asignacion de variables\n",
    "number_1 = input(\"ingrese number_1: \")\n",
    "number_1 = float(number_1)\n",
    "\n",
    "number_2 = input(\"ingrese number_2: \")\n",
    "number_2 = float(number_2)\n",
    "\n",
    "# operaciones\n",
    "sum_result = number_1 + number_2\n",
    "substract = number_1 - number_2\n",
    "multi = number_1 * number_2\n",
    "div = number_1 / number_2\n",
    "\n",
    "# resultados comentados\n",
    "print(\"resultado de la suma es:\", sum_result)\n",
    "print(f\"resultado de la resta es: {substract}\")\n",
    "print(f\"resultado de la multiplicacion es: {multi}\")\n",
    "print(f\"resultado de la division es: {div}\")"
   ]
  },
  {
   "cell_type": "code",
   "execution_count": null,
   "metadata": {},
   "outputs": [
    {
     "name": "stdout",
     "output_type": "stream",
     "text": [
      "Hola 22\n"
     ]
    },
    {
     "data": {
      "text/plain": [
       "str"
      ]
     },
     "execution_count": 35,
     "metadata": {},
     "output_type": "execute_result"
    }
   ],
   "source": [
    "name_1 = input(\"nombre: \")\n",
    "print(\"Hola\", name_1)\n",
    "type(name_1)"
   ]
  },
  {
   "cell_type": "code",
   "execution_count": null,
   "metadata": {},
   "outputs": [],
   "source": [
    "# Listas\n",
    "# int\n",
    "# float\n",
    "# strings\n",
    "#\n",
    "\n",
    "list_1 = [ \"jose\", \"maria\", \"juan\", \"ruperto\", 12, 14, 15, 90.5, 78.8 ]"
   ]
  },
  {
   "cell_type": "code",
   "execution_count": null,
   "metadata": {},
   "outputs": [
    {
     "data": {
      "text/plain": [
       "['jose', 'maria', 'juan', 'ruperto', 12, 14, 15, 90.5, 78.8]"
      ]
     },
     "execution_count": 41,
     "metadata": {},
     "output_type": "execute_result"
    }
   ],
   "source": [
    "list_1"
   ]
  },
  {
   "cell_type": "code",
   "execution_count": null,
   "metadata": {},
   "outputs": [],
   "source": [
    "# [start:stop]\n",
    "names_list = list_1[0:4]"
   ]
  },
  {
   "cell_type": "code",
   "execution_count": null,
   "metadata": {},
   "outputs": [],
   "source": [
    "integers_list = list_1[4:7]"
   ]
  },
  {
   "cell_type": "code",
   "execution_count": null,
   "metadata": {},
   "outputs": [],
   "source": [
    "float_list = list_1[7:]"
   ]
  },
  {
   "cell_type": "code",
   "execution_count": null,
   "metadata": {},
   "outputs": [],
   "source": [
    "# append: agrega elementos a la lista\n",
    "float_list.append(55.5)"
   ]
  },
  {
   "cell_type": "code",
   "execution_count": null,
   "metadata": {},
   "outputs": [
    {
     "data": {
      "text/plain": [
       "[90.5, 78.8, 55.5]"
      ]
     },
     "execution_count": 60,
     "metadata": {},
     "output_type": "execute_result"
    }
   ],
   "source": [
    "float_list"
   ]
  },
  {
   "cell_type": "code",
   "execution_count": null,
   "metadata": {},
   "outputs": [],
   "source": [
    "# clear: borra los elementos de la lista\n",
    "integers_list.clear()"
   ]
  },
  {
   "cell_type": "code",
   "execution_count": null,
   "metadata": {},
   "outputs": [
    {
     "data": {
      "text/plain": [
       "[]"
      ]
     },
     "execution_count": 63,
     "metadata": {},
     "output_type": "execute_result"
    }
   ],
   "source": [
    "integers_list"
   ]
  },
  {
   "cell_type": "code",
   "execution_count": null,
   "metadata": {},
   "outputs": [],
   "source": [
    "# copy: copia la lista original\n",
    "names_list_2 = names_list.copy()"
   ]
  },
  {
   "cell_type": "code",
   "execution_count": null,
   "metadata": {},
   "outputs": [
    {
     "data": {
      "text/plain": [
       "['jose', 'maria', 'juan', 'ruperto']"
      ]
     },
     "execution_count": 65,
     "metadata": {},
     "output_type": "execute_result"
    }
   ],
   "source": [
    "names_list_2"
   ]
  },
  {
   "cell_type": "code",
   "execution_count": null,
   "metadata": {},
   "outputs": [
    {
     "data": {
      "text/plain": [
       "['jose', 'maria', 'juan', 'ruperto']"
      ]
     },
     "execution_count": 66,
     "metadata": {},
     "output_type": "execute_result"
    }
   ],
   "source": [
    "names_list"
   ]
  },
  {
   "cell_type": "code",
   "execution_count": null,
   "metadata": {},
   "outputs": [
    {
     "data": {
      "text/plain": [
       "4"
      ]
     },
     "execution_count": 67,
     "metadata": {},
     "output_type": "execute_result"
    }
   ],
   "source": [
    "# len: permite contar los elementos de la lista\n",
    "len(names_list)"
   ]
  },
  {
   "cell_type": "markdown",
   "metadata": {},
   "source": [
    "### Condicionales"
   ]
  },
  {
   "cell_type": "code",
   "execution_count": null,
   "metadata": {},
   "outputs": [],
   "source": [
    "# sintaxis de un condicional simple\n",
    "# if condicion:\n",
    "    #operacion\n",
    "# condicion\n",
    "# mayor que >\n",
    "# menor que <\n",
    "# mayor igual >=\n",
    "# menor igual <=\n",
    "# diferente != \n",
    "# igual? ==\n"
   ]
  },
  {
   "cell_type": "code",
   "execution_count": null,
   "metadata": {},
   "outputs": [
    {
     "name": "stdout",
     "output_type": "stream",
     "text": [
      "no es lunes\n"
     ]
    }
   ],
   "source": [
    "day = input('dia de la semana: ')\n",
    "if (day == 'lunes'):\n",
    "    print('Hoy lunes voy a trabajar')\n",
    "else:\n",
    "    print('no es lunes')"
   ]
  },
  {
   "cell_type": "code",
   "execution_count": null,
   "metadata": {},
   "outputs": [
    {
     "name": "stdout",
     "output_type": "stream",
     "text": [
      "voy al cine 2x1\n"
     ]
    }
   ],
   "source": [
    "# operadores logicos\n",
    "# and y or\n",
    "# \n",
    "day = input('dia de la semana: ')\n",
    "momento_day = input('ingrese momento del dia: ')\n",
    "\n",
    "if (day == 'lunes') and (momento_day == 'noche'):\n",
    "    print('voy al cine 2x1')\n",
    "else:\n",
    "    print('no es lunes')"
   ]
  },
  {
   "cell_type": "code",
   "execution_count": null,
   "metadata": {},
   "outputs": [
    {
     "name": "stdout",
     "output_type": "stream",
     "text": [
      "veo netflix\n"
     ]
    }
   ],
   "source": [
    "# operadores logicos\n",
    "# and y or\n",
    "# \n",
    "day = input('dia de la semana: ')\n",
    "momento_day = input('ingrese momento del dia: ')\n",
    "\n",
    "if (day == 'lunes') or (momento_day == 'noche'):\n",
    "    print('veo netflix')\n",
    "else:\n",
    "    print('no es lunes')"
   ]
  },
  {
   "cell_type": "markdown",
   "metadata": {},
   "source": [
    "- tuplas. \n",
    "- Diccionarios"
   ]
  },
  {
   "cell_type": "code",
   "execution_count": null,
   "metadata": {},
   "outputs": [],
   "source": [
    "# tuplas\n",
    "tupla_1 = (1, 2, 3, 4, 5, 6)\n",
    "tupla_2 = ('a', 'b', 'c', 'd', 'e')"
   ]
  },
  {
   "cell_type": "code",
   "execution_count": null,
   "metadata": {},
   "outputs": [
    {
     "data": {
      "text/plain": [
       "3"
      ]
     },
     "execution_count": 19,
     "metadata": {},
     "output_type": "execute_result"
    }
   ],
   "source": [
    "tupla_1[2]"
   ]
  },
  {
   "cell_type": "code",
   "execution_count": null,
   "metadata": {},
   "outputs": [],
   "source": [
    "# diccionarios\n",
    "dict_1 = {\n",
    "    'luis': 1234,\n",
    "    'pedro': 5678,\n",
    "    'juan': 9012\n",
    "}"
   ]
  },
  {
   "cell_type": "code",
   "execution_count": null,
   "metadata": {},
   "outputs": [
    {
     "name": "stdout",
     "output_type": "stream",
     "text": [
      "9012\n"
     ]
    }
   ],
   "source": [
    "dict_1['luis']\n",
    "print( dict_1['juan'] )"
   ]
  },
  {
   "cell_type": "code",
   "execution_count": null,
   "metadata": {},
   "outputs": [],
   "source": [
    "dic_2 = {\n",
    "    'frutas':'manzanas',\n",
    "    'numeros':[12, 24, 38],\n",
    "    'pesos' : [1.5, 2, 3.4],\n",
    "}"
   ]
  },
  {
   "cell_type": "code",
   "execution_count": null,
   "metadata": {},
   "outputs": [
    {
     "data": {
      "text/plain": [
       "[1.5, 2, 3.4]"
      ]
     },
     "execution_count": 28,
     "metadata": {},
     "output_type": "execute_result"
    }
   ],
   "source": [
    "dic_2['pesos']"
   ]
  },
  {
   "cell_type": "code",
   "execution_count": null,
   "metadata": {},
   "outputs": [],
   "source": []
  },
  {
   "cell_type": "code",
   "execution_count": 1,
   "metadata": {},
   "outputs": [
    {
     "name": "stdout",
     "output_type": "stream",
     "text": [
      "1\n",
      "2\n",
      "3\n"
     ]
    }
   ],
   "source": [
    "# ciclos finitos \"for\"\n",
    "# sintaxis\n",
    "# for variable in secuencia:\n",
    "#    cuerpo del ciclo\n",
    "\n",
    "# la variable toma los valores de la secuencia en orden\n",
    "# secuencia: cadena, lista, tupla, conjunto\n",
    "for number in [1, 2, 3]:\n",
    "    print(number)"
   ]
  },
  {
   "cell_type": "code",
   "execution_count": 2,
   "metadata": {},
   "outputs": [],
   "source": [
    "names_list = [\"jose\", \"maria\", \"jesus\"]"
   ]
  },
  {
   "cell_type": "code",
   "execution_count": 5,
   "metadata": {},
   "outputs": [
    {
     "name": "stdout",
     "output_type": "stream",
     "text": [
      "\"jose\" es el papa\n",
      "\"maria\" no es papa\n",
      "\"jesus\" no es papa\n"
     ]
    }
   ],
   "source": [
    "for name in names_list:\n",
    "    if name == 'jose':\n",
    "        print(f'\"{name}\" es el papa')\n",
    "    else:\n",
    "        print(f'\"{name}\" no es papa')"
   ]
  },
  {
   "cell_type": "markdown",
   "metadata": {},
   "source": [
    "#### Funciones"
   ]
  },
  {
   "cell_type": "code",
   "execution_count": null,
   "metadata": {},
   "outputs": [],
   "source": [
    "# sintaxis de una funcion en python\n",
    "\n",
    "# def name_function(parameters):\n",
    "#     \"\"\"\n",
    "#     Documentacion de la funcion\n",
    "#     \"\"\"\n",
    "#     # código de la funcion\n",
    "#     pass"
   ]
  },
  {
   "cell_type": "code",
   "execution_count": null,
   "metadata": {},
   "outputs": [],
   "source": [
    "print(\"Hello, World!\")"
   ]
  },
  {
   "cell_type": "code",
   "execution_count": 8,
   "metadata": {},
   "outputs": [],
   "source": [
    "# funcion para sumar dos numeros\n",
    "def suma_dos(number_1, number_2):\n",
    "    \"\"\"\n",
    "    Esta funcion suma dos numeros enteros\n",
    "    number_1: int\n",
    "    number_2: int\n",
    "    return: int\n",
    "    \"\"\"\n",
    "    result = number_1 + number_2\n",
    "    return result\n"
   ]
  },
  {
   "cell_type": "code",
   "execution_count": 11,
   "metadata": {},
   "outputs": [
    {
     "data": {
      "text/plain": [
       "26"
      ]
     },
     "execution_count": 11,
     "metadata": {},
     "output_type": "execute_result"
    }
   ],
   "source": [
    "suma_dos(11, 15)"
   ]
  },
  {
   "cell_type": "code",
   "execution_count": null,
   "metadata": {},
   "outputs": [],
   "source": []
  },
  {
   "cell_type": "code",
   "execution_count": 12,
   "metadata": {},
   "outputs": [],
   "source": [
    "# funcion que reste dos numeros\n",
    "def resta_dos(number_1, number_2):\n",
    "    \"\"\"\n",
    "    funcion que reste dos numeros\n",
    "    number_1: int\n",
    "    number_2: int\n",
    "    result = number_1 - number_2\n",
    "    return: int\n",
    "    \"\"\"\n",
    "    result = number_1 - number_2\n",
    "    return result"
   ]
  },
  {
   "cell_type": "code",
   "execution_count": 13,
   "metadata": {},
   "outputs": [
    {
     "data": {
      "text/plain": [
       "3"
      ]
     },
     "execution_count": 13,
     "metadata": {},
     "output_type": "execute_result"
    }
   ],
   "source": [
    "resta_dos(23, 20)"
   ]
  },
  {
   "cell_type": "code",
   "execution_count": null,
   "metadata": {},
   "outputs": [],
   "source": [
    "resta_dos()"
   ]
  },
  {
   "cell_type": "code",
   "execution_count": 15,
   "metadata": {},
   "outputs": [
    {
     "data": {
      "text/plain": [
       "3"
      ]
     },
     "execution_count": 15,
     "metadata": {},
     "output_type": "execute_result"
    }
   ],
   "source": [
    "resta_dos(number_2=20, number_1=23)"
   ]
  }
 ],
 "metadata": {
  "kernelspec": {
   "display_name": "Python 3",
   "language": "python",
   "name": "python3"
  },
  "language_info": {
   "codemirror_mode": {
    "name": "ipython",
    "version": 3
   },
   "file_extension": ".py",
   "mimetype": "text/x-python",
   "name": "python",
   "nbconvert_exporter": "python",
   "pygments_lexer": "ipython3",
   "version": "3.10.6"
  }
 },
 "nbformat": 4,
 "nbformat_minor": 2
}
