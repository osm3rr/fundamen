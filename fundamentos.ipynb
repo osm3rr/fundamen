{
 "cells": [
  {
   "cell_type": "code",
   "execution_count": 2,
   "metadata": {},
   "outputs": [
    {
     "name": "stdout",
     "output_type": "stream",
     "text": [
      "Mano tengo fe!\n"
     ]
    }
   ],
   "source": [
    "print(\"Mano tengo fe!\")"
   ]
  },
  {
   "cell_type": "markdown",
   "metadata": {},
   "source": [
    "#### Clases de python\n",
    "* variables\n",
    "* operadores matematicos\n",
    "* operadores de comparacion\n",
    "* operadores logicos\n",
    "* condicionales\n",
    "- prueba 1\n",
    "\n",
    "Este es el contenido de la primera clase"
   ]
  },
  {
   "cell_type": "markdown",
   "metadata": {},
   "source": [
    "### Variables"
   ]
  },
  {
   "cell_type": "code",
   "execution_count": 3,
   "metadata": {},
   "outputs": [],
   "source": [
    "name = \"josefino\" # cadena de caracteres / string"
   ]
  },
  {
   "cell_type": "code",
   "execution_count": 5,
   "metadata": {},
   "outputs": [],
   "source": [
    "Name = 'ruperto'"
   ]
  },
  {
   "cell_type": "code",
   "execution_count": 10,
   "metadata": {},
   "outputs": [
    {
     "ename": "NameError",
     "evalue": "name 'last' is not defined",
     "output_type": "error",
     "traceback": [
      "\u001b[1;31m---------------------------------------------------------------------------\u001b[0m",
      "\u001b[1;31mNameError\u001b[0m                                 Traceback (most recent call last)",
      "Input \u001b[1;32mIn [10]\u001b[0m, in \u001b[0;36m<cell line: 5>\u001b[1;34m()\u001b[0m\n\u001b[0;32m      3\u001b[0m LastName \u001b[38;5;241m=\u001b[39m \u001b[38;5;124m\"\u001b[39m\u001b[38;5;124mprimero\u001b[39m\u001b[38;5;124m\"\u001b[39m\n\u001b[0;32m      4\u001b[0m \u001b[38;5;66;03m# last-name = \"primera\"\u001b[39;00m\n\u001b[1;32m----> 5\u001b[0m \u001b[43mlast\u001b[49m\u001b[38;5;241m.\u001b[39mname \u001b[38;5;241m=\u001b[39m \u001b[38;5;124m\"\u001b[39m\u001b[38;5;124mprimera\u001b[39m\u001b[38;5;124m\"\u001b[39m\n\u001b[0;32m      6\u001b[0m LASTname \u001b[38;5;241m=\u001b[39m \u001b[38;5;124m\"\u001b[39m\u001b[38;5;124mprimera\u001b[39m\u001b[38;5;124m\"\u001b[39m\n",
      "\u001b[1;31mNameError\u001b[0m: name 'last' is not defined"
     ]
    }
   ],
   "source": [
    "ln = 'segundo' # mala practica\n",
    "last_name = \"primera\" \n",
    "LastName = \"primero\"\n",
    "# last-name = \"primera\"\n",
    "last.name = \"primera\"\n",
    "LASTname = \"primera\"\n"
   ]
  },
  {
   "cell_type": "code",
   "execution_count": 19,
   "metadata": {},
   "outputs": [],
   "source": [
    "# asinacion de variables\n",
    "number_1 = 22\n",
    "number_2 = 10\n",
    "\n",
    "# operaciones\n",
    "sum_result = number_1 + number_2\n",
    "substract = number_1 - number_2\n",
    "multi = number_1 * number_2\n",
    "div = number_1 / number_2"
   ]
  },
  {
   "cell_type": "code",
   "execution_count": 20,
   "metadata": {},
   "outputs": [
    {
     "name": "stdout",
     "output_type": "stream",
     "text": [
      "32\n",
      "12\n",
      "220\n",
      "2.2\n"
     ]
    }
   ],
   "source": [
    "# resultados\n",
    "print(sum_result)\n",
    "print(substract)\n",
    "print(multi)\n",
    "print(div)\n"
   ]
  },
  {
   "cell_type": "code",
   "execution_count": 27,
   "metadata": {},
   "outputs": [
    {
     "name": "stdout",
     "output_type": "stream",
     "text": [
      "resultado de la suma es: 32\n",
      "resultado de la resta es: 12\n",
      "resultado de la multiplicacion es: 220\n",
      "resultado de la division es: 2.2\n"
     ]
    }
   ],
   "source": [
    "# resultados comentados\n",
    "print(\"resultado de la suma es:\", sum_result)\n",
    "print(f\"resultado de la resta es: {substract}\")\n",
    "print(f\"resultado de la multiplicacion es: {multi}\")\n",
    "print(f\"resultado de la division es: {div}\")"
   ]
  },
  {
   "cell_type": "code",
   "execution_count": 31,
   "metadata": {},
   "outputs": [
    {
     "name": "stdout",
     "output_type": "stream",
     "text": [
      "<class 'str'>\n",
      "<class 'int'>\n",
      "<class 'float'>\n"
     ]
    }
   ],
   "source": [
    "# tipos de datos en python\n",
    "print(type(last_name))\n",
    "print(type(number_1))\n",
    "print(type(div))"
   ]
  },
  {
   "cell_type": "code",
   "execution_count": 39,
   "metadata": {},
   "outputs": [
    {
     "name": "stdout",
     "output_type": "stream",
     "text": [
      "resultado de la suma es: 34.0\n",
      "resultado de la resta es: -13.0\n",
      "resultado de la multiplicacion es: 246.75\n",
      "resultado de la division es: 0.44680851063829785\n"
     ]
    }
   ],
   "source": [
    "# ingreso de datos por teclado\n",
    "# asignacion de variables\n",
    "number_1 = input(\"ingrese number_1: \")\n",
    "number_1 = float(number_1)\n",
    "\n",
    "number_2 = input(\"ingrese number_2: \")\n",
    "number_2 = float(number_2)\n",
    "\n",
    "# operaciones\n",
    "sum_result = number_1 + number_2\n",
    "substract = number_1 - number_2\n",
    "multi = number_1 * number_2\n",
    "div = number_1 / number_2\n",
    "\n",
    "# resultados comentados\n",
    "print(\"resultado de la suma es:\", sum_result)\n",
    "print(f\"resultado de la resta es: {substract}\")\n",
    "print(f\"resultado de la multiplicacion es: {multi}\")\n",
    "print(f\"resultado de la division es: {div}\")"
   ]
  },
  {
   "cell_type": "code",
   "execution_count": 35,
   "metadata": {},
   "outputs": [
    {
     "name": "stdout",
     "output_type": "stream",
     "text": [
      "Hola 22\n"
     ]
    },
    {
     "data": {
      "text/plain": [
       "str"
      ]
     },
     "execution_count": 35,
     "metadata": {},
     "output_type": "execute_result"
    }
   ],
   "source": [
    "name_1 = input(\"nombre: \")\n",
    "print(\"Hola\", name_1)\n",
    "type(name_1)"
   ]
  }
 ],
 "metadata": {
  "kernelspec": {
   "display_name": "Python 3",
   "language": "python",
   "name": "python3"
  },
  "language_info": {
   "codemirror_mode": {
    "name": "ipython",
    "version": 3
   },
   "file_extension": ".py",
   "mimetype": "text/x-python",
   "name": "python",
   "nbconvert_exporter": "python",
   "pygments_lexer": "ipython3",
   "version": "3.10.6"
  }
 },
 "nbformat": 4,
 "nbformat_minor": 2
}
